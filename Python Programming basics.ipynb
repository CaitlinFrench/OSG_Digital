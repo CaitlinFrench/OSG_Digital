{
 "cells": [
  {
   "cell_type": "markdown",
   "metadata": {},
   "source": [
    "# Python for Data Science"
   ]
  },
  {
   "cell_type": "markdown",
   "metadata": {},
   "source": [
    "### Brief note on how to use a Jupyter notebook\n",
    "\n",
    "If you have never used a Jupyter notebook, the next few shortcuts should prove extremely useful. Below `:` indicates that you should release the previous key and enter the next one. On the other hand `+` indicates that you should press both keys simultaneously.\n",
    "\n",
    "The *current cell* designates the cell in which you currently have your cursor. \n",
    "\n",
    "* `ESC:A` (resp. `ESC:B`) adds a new cell above (resp. below) the current one.\n",
    "* `ESC:D:D` deletes the current cell\n",
    "* `MAJ+ENTER` executes the current cell\n",
    "* `ESC:L` toggles the line numbering in the current cell\n",
    "* `ESC:M` changes the current cell to a **markdown** cell (a cell in which you can write formatted text)\n",
    "* `ESC:Y` changes the current cell to a **code** cell (opposite effect)\n",
    "\n",
    "**for Windows and linux users: \n",
    "replace `ESC` by `Ctrl + M` **"
   ]
  },
  {
   "cell_type": "markdown",
   "metadata": {},
   "source": [
    "# Introduction to Python\n",
    "\n",
    "Before we start, please ensure the following libraries are installed by executing the following script:"
   ]
  },
  {
   "cell_type": "markdown",
   "metadata": {},
   "source": [
    "Type Markdown and LaTeX: α2"
   ]
  },
  {
   "cell_type": "code",
   "execution_count": null,
   "metadata": {
    "collapsed": true
   },
   "outputs": [],
   "source": [
    "import numpy as np\n",
    "import pandas as pd\n",
    "import seaborn as sns\n",
    "import matplotlib.pyplot as plt\n",
    "import sklearn\n",
    "\n",
    "%matplotlib inline\n",
    "\n",
    "print(\"libraries all imported, ready to go\")"
   ]
  },
  {
   "cell_type": "markdown",
   "metadata": {},
   "source": [
    "If not, please install it in your terminal by typing the following \n",
    "\n",
    "* `pip install %the package name%` "
   ]
  },
  {
   "cell_type": "markdown",
   "metadata": {},
   "source": [
    "# Mathematical operations\n",
    "\n",
    "Every programming language has some kind of way of doing numbers and math. Here are the way python does maths\n",
    "\n",
    "* \\+ plus\n",
    "* \\- minus\n",
    "* \\* times\n",
    "* / division\n",
    "* \\*\\* to the power\n",
    "* % modulo math"
   ]
  },
  {
   "cell_type": "code",
   "execution_count": null,
   "metadata": {
    "collapsed": true
   },
   "outputs": [],
   "source": [
    "# What is 1 + 1?"
   ]
  },
  {
   "cell_type": "code",
   "execution_count": null,
   "metadata": {
    "collapsed": true
   },
   "outputs": [],
   "source": [
    "# What is the remainder of 7 divided by 3"
   ]
  },
  {
   "cell_type": "markdown",
   "metadata": {},
   "source": [
    "# Boolean Logic\n",
    "\n",
    "In Python we have the following terms (characters and phrases) for determining if something is\n",
    "“True” or “False.” Logic on a computer is all about seeing if some combination of these characters and some variables is True at that point in the program.\n",
    "\n",
    "* and \n",
    "* or \n",
    "* not \n",
    "* != (not equal)\n",
    "* == (equal)\n",
    "* \\>= (greater than or equal)\n",
    "* <= (less than or equal)\n",
    "* True\n",
    "* False\n"
   ]
  },
  {
   "cell_type": "code",
   "execution_count": null,
   "metadata": {
    "collapsed": true
   },
   "outputs": [],
   "source": [
    "# Small, greater, equal, not equal\n",
    "a = 10\n",
    "b = 100\n",
    "print(a < b)   # a smaller than b: True\n",
    "print(a == b)  # a equal b: False\n",
    "print(a !=b )  # a not equal (!=) b : True"
   ]
  },
  {
   "cell_type": "code",
   "execution_count": null,
   "metadata": {},
   "outputs": [],
   "source": [
    "# Try more!\n",
    "# Is 'testing' the same as \"testing\"?\n"
   ]
  },
  {
   "cell_type": "code",
   "execution_count": null,
   "metadata": {},
   "outputs": [],
   "source": [
    "# What is this?\n",
    "print(1 == 1 and not (\"testing\" == 1 or 1 == 0))"
   ]
  },
  {
   "cell_type": "markdown",
   "metadata": {},
   "source": [
    "## Challenge: XOR\n",
    "\n",
    "The XOR gate (sometimes EOR gate, or EXOR gate and pronounced as Exclusive OR gate) is a digital logic gate that gives a true (1 or HIGH) output when the number of true inputs is odd. \n",
    "\n",
    "Can you use the operand we have learnt just now to get the following truth table?\n",
    "\n",
    "|True|False  | True? |\n",
    "|----| ------------- | ------------- |\n",
    "|1| 1  | 0  |\n",
    "|1| 0  | 1  |\n",
    "|0| 1  | 1  |\n",
    "|0| 0  | 0  |\n",
    "\n"
   ]
  },
  {
   "cell_type": "code",
   "execution_count": null,
   "metadata": {
    "collapsed": true
   },
   "outputs": [],
   "source": [
    "# Try it out yourself! "
   ]
  },
  {
   "cell_type": "markdown",
   "metadata": {},
   "source": [
    "# Comment \n",
    "Code Comment is important! It helps other people to understand what your code is.\n",
    "Use\" # to comment your code. See more examples below."
   ]
  },
  {
   "cell_type": "markdown",
   "metadata": {},
   "source": [
    "# Writing Functions\n",
    "\n",
    "A block of organized, reusable code that is used to perform a single, related action. See the following example."
   ]
  },
  {
   "cell_type": "code",
   "execution_count": null,
   "metadata": {},
   "outputs": [],
   "source": [
    "# Addition\n",
    "def addition(a, b): # Define function name\n",
    "    return (a + b)  # Return function will return the answer when you call the function like below\n",
    "addition(1, 2)"
   ]
  },
  {
   "cell_type": "code",
   "execution_count": null,
   "metadata": {
    "collapsed": true
   },
   "outputs": [],
   "source": [
    "# Write a Quadratic Function"
   ]
  },
  {
   "cell_type": "markdown",
   "metadata": {},
   "source": [
    "Run the following function, what do you see ?"
   ]
  },
  {
   "cell_type": "code",
   "execution_count": null,
   "metadata": {
    "collapsed": true
   },
   "outputs": [],
   "source": [
    "def cheese_and_crackers(cheese_count, boxes_of_crackers):\n",
    "    print (\"You have %d cheeses!\" % cheese_count)\n",
    "    print (\"You have %d boxes of crackers!\" % boxes_of_crackers)\n",
    "    print (\"Man that's enough for a party!\")\n",
    "    print (\"Get a blanket.\\n\")"
   ]
  },
  {
   "cell_type": "markdown",
   "metadata": {},
   "source": [
    "It's time to execute the function."
   ]
  },
  {
   "cell_type": "code",
   "execution_count": null,
   "metadata": {
    "collapsed": true
   },
   "outputs": [],
   "source": [
    "#Execute the function\n",
    "cheese_and_crackers(10, 100)"
   ]
  },
  {
   "cell_type": "markdown",
   "metadata": {},
   "source": [
    "You can include mulitple statements and action in the function."
   ]
  },
  {
   "cell_type": "markdown",
   "metadata": {},
   "source": [
    "# If-conditioning \n",
    "\n",
    "Run the following example"
   ]
  },
  {
   "cell_type": "code",
   "execution_count": null,
   "metadata": {
    "collapsed": true
   },
   "outputs": [],
   "source": [
    "weight = float(input(\"How many pounds does your suitcase weigh?\"))\n",
    "if weight > 50:\n",
    "    print(\"There is a $25 charge for luggage that heavy.\")\n",
    "else:\n",
    "    print(\"We will not charge you any extra\")\n",
    "    print(\"Thank you for your business.\")"
   ]
  },
  {
   "cell_type": "markdown",
   "metadata": {},
   "source": [
    "You can also embed a if conditional statement in a list comprehension"
   ]
  },
  {
   "cell_type": "code",
   "execution_count": null,
   "metadata": {
    "collapsed": true
   },
   "outputs": [],
   "source": [
    "# If-else\n",
    "# Syntax: If expression: statements else expression: statments\n",
    "# We set the elemet x in the list to be 1 if the element x < 3, otherise 0\n",
    "a = [1,2,3,4,5,6,7]                                # create list\n",
    "b = [1 if a[i] < 3 else 0 for i in range(len(a))]  \n",
    "# for each element in a, we check the condition and return 1 or 0\n",
    "print(b)"
   ]
  },
  {
   "cell_type": "markdown",
   "metadata": {},
   "source": [
    "## Exercise:\n",
    "Write a function that takes in two  2-digit integer and return the product of them, if it is more than 2 digit, return `\"Mental math is too hard for me\"`"
   ]
  },
  {
   "cell_type": "code",
   "execution_count": null,
   "metadata": {
    "collapsed": true
   },
   "outputs": [],
   "source": [
    "# Try it out."
   ]
  },
  {
   "cell_type": "markdown",
   "metadata": {},
   "source": [
    "# While loop\n",
    "\n",
    "Loops are used to repeatedly execute a block of program statements.\n",
    "\n",
    "The while loop runs as long as the expression (condition) evaluates to True and execute the program block. The condition is checked every time at the beginning of the loop and the first time when the expression evaluates to False, the loop stops without executing any remaining statement(s). "
   ]
  },
  {
   "cell_type": "code",
   "execution_count": null,
   "metadata": {
    "collapsed": true,
    "scrolled": false
   },
   "outputs": [],
   "source": [
    "# Run the following code and see what happens\n",
    "x = 0\n",
    "while x**2<100:\n",
    "    print(x)\n",
    "    x += 1"
   ]
  },
  {
   "cell_type": "code",
   "execution_count": null,
   "metadata": {
    "collapsed": true,
    "scrolled": true
   },
   "outputs": [],
   "source": [
    "x = 0\n",
    "while x*2<100:\n",
    "    print(x**2)\n",
    "    x += 1"
   ]
  },
  {
   "cell_type": "markdown",
   "metadata": {},
   "source": [
    "# For loop\n",
    "\n",
    "The for loop that is used to iterate over elements of a sequence, it is often \n",
    "used when you have a piece of code which you want to repeat \"n\" number of time. \n"
   ]
  },
  {
   "cell_type": "code",
   "execution_count": null,
   "metadata": {
    "collapsed": true,
    "scrolled": true
   },
   "outputs": [],
   "source": [
    "for x in range(10):\n",
    "    print (x)"
   ]
  },
  {
   "cell_type": "code",
   "execution_count": null,
   "metadata": {
    "collapsed": true
   },
   "outputs": [],
   "source": [
    "for x in range(3):\n",
    "    print (x**2)    # x to the power 2"
   ]
  },
  {
   "cell_type": "markdown",
   "metadata": {},
   "source": [
    "Can you explain the difference between while loop and for loop? "
   ]
  },
  {
   "cell_type": "markdown",
   "metadata": {},
   "source": [
    "## Exercise\n",
    "\n",
    "Use a for loop to print out the first 10 odd numbers.\n",
    "\n",
    "Now try it with a while loop."
   ]
  },
  {
   "cell_type": "code",
   "execution_count": null,
   "metadata": {
    "collapsed": true
   },
   "outputs": [],
   "source": [
    "# Print out the first 10 odd numbers"
   ]
  },
  {
   "cell_type": "code",
   "execution_count": null,
   "metadata": {
    "collapsed": true
   },
   "outputs": [],
   "source": [
    "# Multiple conditions\n",
    "# Hint: adding else if in between and for loop\n",
    "# Question: write a loop and for x = [1,2,..,10] print x**2 , for x = [11,..,20] print 3*x  and\n",
    "#           for x = [21,..,,30] print \"come on, this is boring\""
   ]
  },
  {
   "cell_type": "markdown",
   "metadata": {},
   "source": [
    "## Challenge: Prime numbers \n",
    "\n",
    "Combining what we have done so far, can you write some code to print out the first 10 prime numbers?"
   ]
  },
  {
   "cell_type": "code",
   "execution_count": null,
   "metadata": {
    "collapsed": true
   },
   "outputs": [],
   "source": [
    "# Print out the first 10 prime numbers "
   ]
  },
  {
   "cell_type": "markdown",
   "metadata": {},
   "source": [
    "# Containers\n",
    "\n",
    "Containers in python are objects that store other objects in python. The most common container in python are the following:\n",
    "\n",
    "* list\n",
    "* Dictionaries\n",
    "* Numpy array\n",
    "* Pandas Dictionary"
   ]
  },
  {
   "cell_type": "code",
   "execution_count": null,
   "metadata": {
    "collapsed": true
   },
   "outputs": [],
   "source": [
    "#list\n",
    "l_1 = [1, 2, 3, 4, 5]\n",
    "print(l_1[1])"
   ]
  },
  {
   "cell_type": "code",
   "execution_count": null,
   "metadata": {
    "collapsed": true
   },
   "outputs": [],
   "source": [
    "#Dictionaries\n",
    "d_1 = dict()\n",
    "d_1[\"key_1\"] = \"pair1\"\n",
    "d_1[\"key_2\"] = \"pair2\"\n",
    "d_1[\"key_3\"] = 3"
   ]
  },
  {
   "cell_type": "markdown",
   "metadata": {},
   "source": [
    "# Numpy\n",
    "\n",
    "NumPy is the fundamental package for scientific computing with Python. It contains among other things:\n",
    "\n",
    "* a powerful N-dimensional array object\n",
    "* sophisticated (broadcasting) functions\n",
    "* useful linear algebra (eg. np.linalg), Statistics (eg. np.mean()), and random number capabilities (np.random)\n",
    "\n",
    "Besides its obvious scientific uses, NumPy can also be used as an efficient multi-dimensional container of generic data. In the following exercises, you will learn how to use numpy to solve some mathematical problems.\n",
    "\n",
    "### Getting started with Numpy\n",
    "\n",
    "Start by loading the `numpy` library (with alias `np`) and create a first array `a1` corresponding to the following matrix:\n",
    "\n",
    "$m_1 = \\left(\\begin{array}{ccc}1&2&3&4&5\\\\5&4&3&2&1\\end{array}\\right)$\n",
    "\n",
    "using the attribute `dtype` of the array, show that Numpy inferred that it is an array of integers.\n",
    "\n",
    "You can also query the dimension of the array by examining its attribute 'shape'."
   ]
  },
  {
   "cell_type": "code",
   "execution_count": null,
   "metadata": {
    "collapsed": true
   },
   "outputs": [],
   "source": [
    "# numpy is pre-installed if you download Anaconda\n",
    "# You have to import libaray before using its functions\n",
    "# General format: import library as short-form\n",
    "# There are many functions/packages in the library. If you only want to use particular function, \n",
    "# you can use the following command: from library import function/package as short-form\n",
    "import numpy as np"
   ]
  },
  {
   "cell_type": "code",
   "execution_count": null,
   "metadata": {
    "collapsed": true
   },
   "outputs": [],
   "source": [
    "# Create and display the array\n",
    "m1 = np.array([[1,2,3,4,5],[5,4,3,2,1]])\n",
    "print(m1)\n",
    "\n",
    "# Display the type of the array\n",
    "print(m1.dtype)\n",
    "\n",
    "# Display its dimension\n",
    "print(m1.shape)"
   ]
  },
  {
   "cell_type": "code",
   "execution_count": null,
   "metadata": {
    "collapsed": true
   },
   "outputs": [],
   "source": [
    "# Create array with [0, 1, 2, 3, 4,5]\n",
    "a = np.arange(6)\n",
    "print(a)"
   ]
  },
  {
   "cell_type": "code",
   "execution_count": null,
   "metadata": {
    "collapsed": true
   },
   "outputs": [],
   "source": [
    "# Reshape the array \n",
    "B = a.reshape(2,3)  ##change the array to 2 x 3 array\n",
    "print(B)"
   ]
  },
  {
   "cell_type": "code",
   "execution_count": null,
   "metadata": {
    "collapsed": true
   },
   "outputs": [],
   "source": [
    "# Length of array\n",
    "len(a)"
   ]
  },
  {
   "cell_type": "code",
   "execution_count": null,
   "metadata": {
    "collapsed": true
   },
   "outputs": [],
   "source": [
    "# Shape of Array\n",
    "B.shape"
   ]
  },
  {
   "cell_type": "code",
   "execution_count": null,
   "metadata": {
    "collapsed": true
   },
   "outputs": [],
   "source": [
    "# Create array\n",
    "a = np.array([2,8,5])\n",
    "print(a)\n",
    "\n",
    "# Create a two-dimensional array\n",
    "b = np.array([[2,8,5],[3,2,1]])\n",
    "print(b)"
   ]
  },
  {
   "cell_type": "code",
   "execution_count": null,
   "metadata": {
    "collapsed": true
   },
   "outputs": [],
   "source": [
    "# Create zero arrays, ones arrays or empty array\n",
    "# zero arrays\n",
    "print(np.zeros((2,3)))    #np.zeros(nrow, ncol)\n",
    "\n",
    "# ones array\n",
    "print(np.ones((3,4)))    #np.ones(nrow, ncol)\n",
    "\n",
    "# empty array\n",
    "print(np.empty([6,2]))   #np.empty((2,6))"
   ]
  },
  {
   "cell_type": "code",
   "execution_count": null,
   "metadata": {
    "collapsed": true
   },
   "outputs": [],
   "source": [
    "# create array with 3 number from 0 to 4\n",
    "np.linspace(0, 4, 3)"
   ]
  },
  {
   "cell_type": "code",
   "execution_count": null,
   "metadata": {
    "collapsed": true
   },
   "outputs": [],
   "source": [
    "# Indexing\n",
    "a = np.arange(10)*3         # each element in array multiply by 3\n",
    "print(a)\n",
    "print(a[2])                 # 3rd element of the array\n",
    "print(a[2:5])               # 3rd to 5th element of the array"
   ]
  },
  {
   "cell_type": "code",
   "execution_count": null,
   "metadata": {
    "collapsed": true
   },
   "outputs": [],
   "source": [
    "# Manipulate array\n",
    "print(a.mean()) # Mean\n",
    "print(a.std())  # standard deviation\n",
    "print(a.sum())  # sum\n",
    "\n",
    "# Note that we can also compute the mean, standard deviation and sum etc in the following way\n",
    "# np.mean(a) \n",
    "# np.std(a)\n",
    "# np.sum(a)\n",
    "# However the computational time is longer if we use np.function(array)\n",
    "# We will not cover anything about the comptational time in this workshop. (maybe next one!)"
   ]
  },
  {
   "cell_type": "markdown",
   "metadata": {},
   "source": [
    "### General Random Number"
   ]
  },
  {
   "cell_type": "code",
   "execution_count": null,
   "metadata": {
    "collapsed": true
   },
   "outputs": [],
   "source": [
    "normalnumber = np.random.randn(10) # generate 10 number from standard normal distribution\n",
    "print(normalnumber)"
   ]
  },
  {
   "cell_type": "markdown",
   "metadata": {},
   "source": [
    "# Challenge "
   ]
  },
  {
   "cell_type": "markdown",
   "metadata": {},
   "source": [
    "Consider a 1d array of the form [5,6,7,8,9,…], can you write a function to build a new vector with 4 consective zeros inserted between each value in the array?"
   ]
  },
  {
   "cell_type": "code",
   "execution_count": null,
   "metadata": {
    "collapsed": true
   },
   "outputs": [],
   "source": [
    "#Function here "
   ]
  },
  {
   "cell_type": "markdown",
   "metadata": {},
   "source": [
    "# Pandas\n",
    "Aim: Handling data, for example merging different datasets and summarzing data"
   ]
  },
  {
   "cell_type": "code",
   "execution_count": null,
   "metadata": {
    "collapsed": true
   },
   "outputs": [],
   "source": [
    "import pandas as pd"
   ]
  },
  {
   "cell_type": "markdown",
   "metadata": {},
   "source": [
    "### Object Creation"
   ]
  },
  {
   "cell_type": "code",
   "execution_count": null,
   "metadata": {
    "collapsed": true
   },
   "outputs": [],
   "source": [
    "data1 = pd.DataFrame({'Name': ['Tom', 'Peter', 'Mary', 'Susan'],\n",
    "                      'Age' : np.array([10, 13, 11, np.nan])}, columns=['Name','Age'])\n",
    "data2 = pd.DataFrame({'Name': ['Tom', 'Peter', 'Alan', 'Susan', 'Harry'],\n",
    "                      \"Gender\": ['Male', 'Male', 'Female', 'Female', np.nan]}, columns=['Name','Gender'])"
   ]
  },
  {
   "cell_type": "markdown",
   "metadata": {},
   "source": [
    "### Import Data"
   ]
  },
  {
   "cell_type": "code",
   "execution_count": null,
   "metadata": {
    "collapsed": true
   },
   "outputs": [],
   "source": [
    "##delimiter: \"\\t\" or  \",\"  or \" \" \n",
    "##header:  'None' or 'infer'   \n",
    "data = pd.read_csv('file path', delimiter='', header='')"
   ]
  },
  {
   "cell_type": "markdown",
   "metadata": {},
   "source": [
    "### View Data"
   ]
  },
  {
   "cell_type": "code",
   "execution_count": null,
   "metadata": {
    "collapsed": true
   },
   "outputs": [],
   "source": [
    "##first 2 rows of data1\n",
    "data1.head(2) "
   ]
  },
  {
   "cell_type": "code",
   "execution_count": null,
   "metadata": {
    "collapsed": true
   },
   "outputs": [],
   "source": [
    "##last 2 rows of data2\n",
    "data2.tail(2)"
   ]
  },
  {
   "cell_type": "code",
   "execution_count": null,
   "metadata": {
    "collapsed": true
   },
   "outputs": [],
   "source": [
    "##obtain the summary of the data  \n",
    "##five number summary, mean, standard deviation and count for numeric value\n",
    "##count, number of unique element, element with highest frequency and the corresponding frequency for categorical variable\n",
    "data1.describe()"
   ]
  },
  {
   "cell_type": "code",
   "execution_count": null,
   "metadata": {
    "collapsed": true
   },
   "outputs": [],
   "source": [
    "##Sorting\n",
    "data.sort_values(by='B')"
   ]
  },
  {
   "cell_type": "markdown",
   "metadata": {},
   "source": [
    "### Selection of Data"
   ]
  },
  {
   "cell_type": "code",
   "execution_count": null,
   "metadata": {
    "collapsed": true
   },
   "outputs": [],
   "source": [
    "##select column  \n",
    "##data.A  gives the same result\n",
    "print(data1['Age'])\n",
    "##select row\n",
    "print(data1[0:3])"
   ]
  },
  {
   "cell_type": "code",
   "execution_count": null,
   "metadata": {
    "collapsed": true
   },
   "outputs": [],
   "source": [
    "##select by position\n",
    "data1.iloc[:,0]"
   ]
  },
  {
   "cell_type": "code",
   "execution_count": null,
   "metadata": {
    "collapsed": true
   },
   "outputs": [],
   "source": [
    "##Boolean Indexing\n",
    "data1[data1.Name=='Tom']"
   ]
  },
  {
   "cell_type": "markdown",
   "metadata": {},
   "source": [
    "### Missing Value\n",
    "\n",
    "There are many methods to deal with missing value. The easiest way is to drop it. We can fill in particular value\n",
    "but we have to justify the choice."
   ]
  },
  {
   "cell_type": "code",
   "execution_count": null,
   "metadata": {
    "collapsed": true
   },
   "outputs": [],
   "source": [
    "##Drop value\n",
    "data2.dropna(how='any')"
   ]
  },
  {
   "cell_type": "code",
   "execution_count": null,
   "metadata": {
    "collapsed": true
   },
   "outputs": [],
   "source": [
    "##Filling data\n",
    "data2.fillna(value='Male')"
   ]
  },
  {
   "cell_type": "markdown",
   "metadata": {},
   "source": [
    "# More to come\n",
    "The datasets usually come from different sources and we have to combine them!\n",
    "\n",
    "We can combine them in different ways:\n",
    "* concatenate\n",
    "* join\n",
    "* append"
   ]
  },
  {
   "cell_type": "code",
   "execution_count": null,
   "metadata": {
    "collapsed": true,
    "scrolled": true
   },
   "outputs": [],
   "source": [
    "##Concatenate\n",
    "##axis: 0 or 1  (concatenate along row or column)\n",
    "data3 = pd.concat([data1, data2], axis=0)\n",
    "data4 = pd.concat([data1, data2], axis=1)\n",
    "print(data3)\n",
    "print(data4)"
   ]
  },
  {
   "cell_type": "code",
   "execution_count": null,
   "metadata": {
    "collapsed": true
   },
   "outputs": [],
   "source": [
    "##Append is a shortcut to concantenate\n",
    "newline = pd.Series(['Steven', 18])\n",
    "RESULT = data1.append(newline, ignore_index=True)\n",
    "print(RESULT)"
   ]
  },
  {
   "cell_type": "code",
   "execution_count": null,
   "metadata": {
    "collapsed": true
   },
   "outputs": [],
   "source": [
    "##Append is a shortcut to concantenate\n",
    "newline = pd.Series(['Steven', 18])\n",
    "RESULT = data1.append(newline, ignore_index=True)\n",
    "print(RESULT)"
   ]
  },
  {
   "cell_type": "code",
   "execution_count": null,
   "metadata": {
    "collapsed": true
   },
   "outputs": [],
   "source": [
    "##Merge\n",
    "result = pd.merge(data1, data2, on='Name', how='inner')\n",
    "print(result)\n",
    "# We can use Pandas to do similar things as SQL \n",
    "# SQL equivalent names\n",
    "# SQL: LEFT OUTER JOIN\n",
    "# SQL: RIGHT OUTER JOIN\n",
    "# SQL: FULL OUTER JOIN\n",
    "# SQL: INNER JOIN"
   ]
  },
  {
   "cell_type": "code",
   "execution_count": null,
   "metadata": {
    "collapsed": true
   },
   "outputs": [],
   "source": [
    "print(result)"
   ]
  },
  {
   "cell_type": "markdown",
   "metadata": {},
   "source": [
    "\n",
    "# Challenge\n",
    "Do LEFT OUTER JOIN, RIGHT OUTER JOIN and INNER JOIN for the above dataframes. What do you see?"
   ]
  },
  {
   "cell_type": "code",
   "execution_count": null,
   "metadata": {
    "collapsed": true
   },
   "outputs": [],
   "source": [
    "# Exercise\n",
    "# Outer Join\n",
    "\n",
    "# Left Join\n",
    "\n",
    "# Right Join\n",
    "\n",
    "# Can you explain the output?"
   ]
  },
  {
   "cell_type": "markdown",
   "metadata": {},
   "source": [
    "# Matplotlib\n",
    "We like figures!\n",
    "Matplotlib is a library that help visualize data.\n",
    "Advance module: ggplot & seaborn (not include in this workshop)"
   ]
  },
  {
   "cell_type": "code",
   "execution_count": null,
   "metadata": {
    "collapsed": true
   },
   "outputs": [],
   "source": [
    "import matplotlib.pyplot as plt"
   ]
  },
  {
   "cell_type": "markdown",
   "metadata": {},
   "source": [
    "### Basic Plotting "
   ]
  },
  {
   "cell_type": "code",
   "execution_count": null,
   "metadata": {
    "collapsed": true
   },
   "outputs": [],
   "source": [
    "# create some data points for y = sin(x) using numpy\n",
    "xmin = -10\n",
    "xmax = 10\n",
    "npts = 100\n",
    "x = np.linspace (xmin, xmax, npts)\n",
    "y = np.sin(x)"
   ]
  },
  {
   "cell_type": "code",
   "execution_count": null,
   "metadata": {
    "collapsed": true
   },
   "outputs": [],
   "source": [
    "# Plot y=sin(x)\n",
    "plt.plot (x, y, \"b--\") # blue, dotted line\n",
    "plt.plot (x, y, \"ro\")  # red dots, no line\n",
    "plt.show () #show the plot"
   ]
  },
  {
   "cell_type": "code",
   "execution_count": null,
   "metadata": {
    "collapsed": true
   },
   "outputs": [],
   "source": [
    "# save same image to file \n",
    "# could be in different format, e.g. jpeg, png \n",
    "plt.savefig (\"cos_plot.pdf\")"
   ]
  },
  {
   "cell_type": "code",
   "execution_count": null,
   "metadata": {
    "collapsed": true
   },
   "outputs": [],
   "source": [
    "##Legend (add description in the figure)\n",
    "plt.plot()                       ##Parameter setting for the figure\n",
    "plt.plot (x, y, linewidth=4)     ##plot \n",
    "plt.title('y=sin(x)')            ##Title for the figure\n",
    "plt.xlabel('x')                  ##x-axis label\n",
    "plt.ylabel('y')                  ##y-axis label\n",
    "plt.axis()\n",
    "plt.show()                       ##Show the figure"
   ]
  },
  {
   "cell_type": "markdown",
   "metadata": {},
   "source": [
    "# Subplot\n",
    "We can plot multiple plots"
   ]
  },
  {
   "cell_type": "code",
   "execution_count": null,
   "metadata": {
    "collapsed": true
   },
   "outputs": [],
   "source": [
    "# Example\n",
    "(fig, axes) = plt.subplots (nrows = 2, ncols = 2)\n",
    "axes[0,0].plot (x, y, 'b-')\n",
    "axes[1,1].plot (x, y, 'r-')\n",
    "plt.show ()"
   ]
  },
  {
   "cell_type": "markdown",
   "metadata": {},
   "source": [
    "### Exercise"
   ]
  },
  {
   "cell_type": "code",
   "execution_count": null,
   "metadata": {
    "collapsed": true
   },
   "outputs": [],
   "source": [
    "# General subplot\n",
    "# We want to plot four y=sin(x) graphs with different size and color\n",
    "# Hint:subplot2grid\n",
    "\n",
    "# Answer\n"
   ]
  },
  {
   "cell_type": "markdown",
   "metadata": {},
   "source": [
    "# Sckitlearn\n",
    "\n",
    "Sckitlearn is a set of python modules for machine learning and data mining. Basically ML practicioner uses this. There are other ML modules in python such as keras, tensorflow, xgboost, Tourch that serves different perposes.\n",
    "\n",
    "In the remaining section, we will introduction the basic sckit learn framework to you by working through an example with you."
   ]
  },
  {
   "cell_type": "markdown",
   "metadata": {},
   "source": [
    "## K-th Nearest neighbour\n",
    "\n",
    "In pattern recognition, the k-nearest neighbors algorithm (k-NN) is a non-parametric method used for classification and regression. In both cases, the input consists of the k closest training examples in the feature space.\n",
    "\n",
    "In k-NN classification, the output is a class membership. An object is classified by a majority vote of its neighbors, with the object being assigned to the class most common among its k nearest neighbors (k is a positive integer, typically small). If k = 1, then the object is simply assigned to the class of that single nearest neighbor.\n",
    "\n",
    "In the following example, we will be using the famous IRIS dataset."
   ]
  },
  {
   "cell_type": "code",
   "execution_count": null,
   "metadata": {
    "collapsed": true
   },
   "outputs": [],
   "source": [
    "#Import the modules and load the data\n",
    "import numpy as np\n",
    "from sklearn import datasets\n",
    "iris = datasets.load_iris()\n",
    "iris_X = iris.data\n",
    "iris_y = iris.target\n",
    "print(\"feature names: %r\" %iris.feature_names)\n",
    "print(\"target names: %r\" %iris.target_names)\n",
    "print(np.unique(iris_y))"
   ]
  },
  {
   "cell_type": "markdown",
   "metadata": {},
   "source": [
    "## Training set and testing set\n",
    "\n",
    "While experimenting with any learning algorithm, it is important not to test the prediction of an estimator on the data used to fit the estimator as this would not be evaluating the performance of the estimator on new data. This is why datasets are often split into train and test data"
   ]
  },
  {
   "attachments": {
    "image.png": {
     "image/png": "[encoded data removed]"
    }
   },
   "cell_type": "markdown",
   "metadata": {},
   "source": [
    "![image.png](attachment:image.png)"
   ]
  },
  {
   "cell_type": "code",
   "execution_count": null,
   "metadata": {
    "collapsed": true
   },
   "outputs": [],
   "source": [
    "# Split iris data in train and test data\n",
    "# A random permutation, to split the data randomly\n",
    "np.random.seed(0) #what have we done here?\n",
    "indices = np.random.permutation(len(iris_X))\n",
    "iris_X_train = iris_X[indices[:-50]]\n",
    "iris_y_train = iris_y[indices[:-50]]\n",
    "iris_X_test  = iris_X[indices[-50:]]\n",
    "iris_y_test  = iris_y[indices[-50:]]"
   ]
  },
  {
   "cell_type": "code",
   "execution_count": null,
   "metadata": {
    "collapsed": true
   },
   "outputs": [],
   "source": [
    "# Create and fit a nearest-neighbor classifier\n",
    "from sklearn.neighbors import KNeighborsClassifier\n",
    "knn = KNeighborsClassifier(n_neighbors=5)\n",
    "knn.fit(iris_X_train, iris_y_train) \n",
    "\n",
    "knn_result = knn.predict(iris_X_test)\n",
    "print(knn_result)"
   ]
  },
  {
   "cell_type": "code",
   "execution_count": null,
   "metadata": {
    "collapsed": true
   },
   "outputs": [],
   "source": [
    "#How would you evaluate the result?\n",
    "#Compute the misclassification error!"
   ]
  },
  {
   "cell_type": "markdown",
   "metadata": {
    "collapsed": true
   },
   "source": [
    "# Challenge time! "
   ]
  },
  {
   "cell_type": "markdown",
   "metadata": {
    "collapsed": true
   },
   "source": [
    "Can you come up with a way to improve the performance of the algorithm?"
   ]
  },
  {
   "cell_type": "markdown",
   "metadata": {},
   "source": [
    "# Final challenge\n",
    "\n",
    "This final challenge will be a wrap up of all the things we have learnt today! In the following, you will be analysing an online retail case study. The dataset is available from the UCI Machine Learning repository (https://archive.ics.uci.edu/ml/datasets/Online+Retail). The dataset has been modified for the workshop.\n",
    "\n",
    "we are interested to model the behaviour of the customers (\"returning\" or \"non-returning\") based on their purchase pattern(such as balance, max spent and number of orders). Following the instructions below and complete the challenge! "
   ]
  },
  {
   "cell_type": "code",
   "execution_count": null,
   "metadata": {
    "collapsed": true
   },
   "outputs": [],
   "source": [
    "# Load the data using pd.read_csv, set \"CustomerID\" as the index column\n",
    "retail = pd.read_csv(\"retail_data.csv\", index_col=\"CustomerID\")"
   ]
  },
  {
   "cell_type": "markdown",
   "metadata": {},
   "source": [
    "### Exploratory data analysis\n",
    "Answer the following query"
   ]
  },
  {
   "cell_type": "code",
   "execution_count": null,
   "metadata": {
    "collapsed": true
   },
   "outputs": [],
   "source": [
    "# What is the dimension of the dataset?"
   ]
  },
  {
   "cell_type": "code",
   "execution_count": null,
   "metadata": {
    "collapsed": true
   },
   "outputs": [],
   "source": [
    "# Is there any missing data?"
   ]
  },
  {
   "cell_type": "code",
   "execution_count": null,
   "metadata": {},
   "outputs": [],
   "source": [
    "#Which customer spent the most? \n"
   ]
  },
  {
   "cell_type": "code",
   "execution_count": null,
   "metadata": {},
   "outputs": [],
   "source": [
    "#Which spent the least?\n"
   ]
  },
  {
   "cell_type": "code",
   "execution_count": null,
   "metadata": {
    "collapsed": true
   },
   "outputs": [],
   "source": [
    "#who order the most frequently?"
   ]
  },
  {
   "cell_type": "code",
   "execution_count": null,
   "metadata": {
    "scrolled": false
   },
   "outputs": [],
   "source": [
    "#Plot a histogram for the balance to understand the approximated distribution\n"
   ]
  },
  {
   "cell_type": "code",
   "execution_count": null,
   "metadata": {
    "collapsed": true
   },
   "outputs": [],
   "source": [
    "# Plot a barchat showing the count for each number of orders the dataset has"
   ]
  },
  {
   "cell_type": "code",
   "execution_count": null,
   "metadata": {
    "collapsed": true
   },
   "outputs": [],
   "source": [
    "# write a for loop to change the class of the customter to 1 if he is returning, 0 if he is not.\n",
    "\n",
    "# Is there a quicker way?"
   ]
  },
  {
   "cell_type": "markdown",
   "metadata": {},
   "source": [
    "### Knn again"
   ]
  },
  {
   "cell_type": "code",
   "execution_count": null,
   "metadata": {
    "collapsed": true
   },
   "outputs": [],
   "source": [
    "# Model the returning class as an outcome, run a knn algorithm with your specified number of neighbour.\n",
    "# Remember you should never use your test set during the training phase"
   ]
  },
  {
   "cell_type": "code",
   "execution_count": null,
   "metadata": {
    "collapsed": true
   },
   "outputs": [],
   "source": [
    "# Split to input matrix X and class vector y"
   ]
  },
  {
   "cell_type": "code",
   "execution_count": null,
   "metadata": {
    "collapsed": true
   },
   "outputs": [],
   "source": [
    "# Evaluate your performance\n",
    "# Look into ROC curve online, plot a ROC curve and return a AUC score. Compare it to your neighbour. Who's better?"
   ]
  }
 ],
 "metadata": {
  "kernelspec": {
   "display_name": "Python [default]",
   "language": "python",
   "name": "python3"
  },
  "language_info": {
   "codemirror_mode": {
    "name": "ipython",
    "version": 3
   },
   "file_extension": ".py",
   "mimetype": "text/x-python",
   "name": "python",
   "nbconvert_exporter": "python",
   "pygments_lexer": "ipython3",
   "version": "3.6.2"
  }
 },
 "nbformat": 4,
 "nbformat_minor": 2
}
