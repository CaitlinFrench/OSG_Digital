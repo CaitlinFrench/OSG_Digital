{
 "cells": [
  {
   "cell_type": "code",
   "execution_count": null,
   "metadata": {
    "collapsed": true
   },
   "outputs": [],
   "source": [
    "import numpy as np \n",
    "import pandas as pd\n",
    "import matplotlib.pylab as plt\n",
    "%matplotlib inline\n",
    "import seaborn as sns\n",
    "from scipy import stats\n",
    "plt.style.use(\"ggplot\")"
   ]
  },
  {
   "cell_type": "markdown",
   "metadata": {},
   "source": [
    "# Linear Regression\n",
    "\n",
    "We will perform our analysis on the diabetes dataset. There are ten baseline variables. Namely, age, sex, body mass index, average blood pressure, and six blood serum measurements were obtained for each of n = 442 diabetes patients, as well as the response of interest, a quantitative measure of disease progression one year after baseline.\n",
    "\n",
    "**PS:they are all normalised**"
   ]
  },
  {
   "cell_type": "code",
   "execution_count": null,
   "metadata": {
    "collapsed": true
   },
   "outputs": [],
   "source": [
    "#Load the require package\n",
    "from sklearn import datasets, linear_model\n",
    "from sklearn.metrics import mean_squared_error\n",
    "\n",
    "#Load the diabetes dataset, note that all the\n",
    "diabetes = pd.read_csv(\"diabetes.csv\",sep=\",\")\n",
    "del diabetes[\"Unnamed: 0\"]"
   ]
  },
  {
   "cell_type": "markdown",
   "metadata": {},
   "source": [
    "# Exploratory Data Analysis\n",
    "\n",
    "\"EDA is an attitude, a flexibility, and a reliance on display, NOT a bundle of techniques.\" \n",
    "\n",
    "A good EDA can give us more insights in performing feature selection and feature engineering,\n",
    "thus resulting in a more accurate model"
   ]
  },
  {
   "cell_type": "code",
   "execution_count": null,
   "metadata": {},
   "outputs": [],
   "source": [
    "# Examine the covariates\n"
   ]
  },
  {
   "cell_type": "code",
   "execution_count": null,
   "metadata": {
    "scrolled": true
   },
   "outputs": [],
   "source": [
    "#Examine the top 5 entries\n",
    "diabetes.head(5)"
   ]
  },
  {
   "cell_type": "code",
   "execution_count": null,
   "metadata": {},
   "outputs": [],
   "source": [
    "#Short summary\n",
    "diabetes.describe()"
   ]
  },
  {
   "cell_type": "code",
   "execution_count": null,
   "metadata": {},
   "outputs": [],
   "source": [
    "# Understand how is age distributed by plotting a histogram\n"
   ]
  },
  {
   "cell_type": "code",
   "execution_count": null,
   "metadata": {},
   "outputs": [],
   "source": [
    "# Understand how is the BMI distributed and also its mean \n"
   ]
  },
  {
   "cell_type": "code",
   "execution_count": null,
   "metadata": {},
   "outputs": [],
   "source": [
    "# Okay lets see if men have higher or lower BMI than women\n"
   ]
  },
  {
   "cell_type": "code",
   "execution_count": null,
   "metadata": {},
   "outputs": [],
   "source": [
    "# Do that for blood pressure\n"
   ]
  },
  {
   "cell_type": "code",
   "execution_count": null,
   "metadata": {},
   "outputs": [],
   "source": [
    "# Okay now we ask, is this different significant ?\n",
    "# conduct hypothesis test to see it!\n"
   ]
  },
  {
   "cell_type": "markdown",
   "metadata": {},
   "source": [
    "Since we have a very small p-value, there is high evidence that the two samples of data does not share the mean."
   ]
  },
  {
   "cell_type": "markdown",
   "metadata": {},
   "source": [
    "# Modeling \n",
    "\n",
    "From the above EDA, we can see that gender is an important factor to be included in the model. We should also include interaction temrs between gender and other variables as well."
   ]
  },
  {
   "cell_type": "code",
   "execution_count": null,
   "metadata": {
    "collapsed": true
   },
   "outputs": [],
   "source": [
    "# Including interaction for gender and BP and gender and BMI\n",
    "diabetes[\"SEXxBMI\"] = diabetes[\"SEX\"]*diabetes[\"BMI\"]\n",
    "diabetes[\"SEXxBP\"] = diabetes[\"SEX\"]*diabetes[\"BP\"]"
   ]
  },
  {
   "cell_type": "code",
   "execution_count": null,
   "metadata": {},
   "outputs": [],
   "source": [
    "#Check it works \n",
    "diabetes.head(5)"
   ]
  },
  {
   "cell_type": "code",
   "execution_count": null,
   "metadata": {
    "collapsed": true
   },
   "outputs": [],
   "source": [
    "# First of all, train_test_split\n",
    "from sklearn.model_selection import train_test_split\n",
    "\n",
    "#Setup \n",
    "y = diabetes[\"Y\"]\n",
    "del diabetes[\"Y\"]\n",
    "X = diabetes\n",
    "\n",
    "#Split\n",
    "X_train, X_test, y_train, y_test = train_test_split(X, y, test_size=0.33, random_state=42)"
   ]
  },
  {
   "cell_type": "code",
   "execution_count": null,
   "metadata": {
    "collapsed": true,
    "scrolled": true
   },
   "outputs": [],
   "source": [
    "#Now we can fit our model with extra interaction variables\n",
    "#Import packages\n",
    "from sklearn import linear_model\n",
    "from sklearn.metrics import mean_squared_error\n",
    "\n",
    "#Create the Model object\n",
    "\n",
    "#fit the model using the training sets\n",
    "\n",
    "#Make predictions using the test set\n"
   ]
  },
  {
   "cell_type": "markdown",
   "metadata": {},
   "source": [
    "# Model evaluation\n",
    "\n",
    "Because of the simple structure of linear model, there are many ways we can interpret the model. "
   ]
  },
  {
   "cell_type": "code",
   "execution_count": null,
   "metadata": {},
   "outputs": [],
   "source": [
    "# looking into its coefficients\n",
    "pd.DataFrame(regr.coef_,columns=[\"Coefficient\"],index=diabetes.columns).T"
   ]
  },
  {
   "cell_type": "code",
   "execution_count": null,
   "metadata": {
    "scrolled": true
   },
   "outputs": [],
   "source": [
    "#Print the mean squared error\n"
   ]
  },
  {
   "cell_type": "markdown",
   "metadata": {},
   "source": [
    "# Comparison with a simpler model\n",
    "\n",
    "We now predict the outcome only using age as an input"
   ]
  },
  {
   "cell_type": "code",
   "execution_count": null,
   "metadata": {
    "scrolled": true
   },
   "outputs": [],
   "source": [
    "#Now we can fit our model with extra interaction variables\n",
    "#Import packages\n",
    "from sklearn import linear_model\n",
    "from sklearn.metrics import mean_squared_error\n",
    "\n",
    "#Create the Model object\n",
    "regr_2 = linear_model.LinearRegression()\n",
    "\n",
    "#fit the model using the training sets\n",
    "regr_2.fit(X_train[\"AGE\"].reshape(-1,1),y_train)\n",
    "\n",
    "#Make predictions using the test set\n",
    "y_pred_2 = regr_2.predict(X_test[\"AGE\"].reshape(-1,1))"
   ]
  },
  {
   "cell_type": "code",
   "execution_count": null,
   "metadata": {},
   "outputs": [],
   "source": [
    "#Print the mean squared error\n",
    "print(\"RMSE: %.2f\" % np.sqrt(mean_squared_error(y_test,y_pred_2)))"
   ]
  },
  {
   "cell_type": "code",
   "execution_count": null,
   "metadata": {
    "scrolled": true
   },
   "outputs": [],
   "source": [
    "#Plotting the results\n",
    "plt.plot(X_test[\"AGE\"],y_pred_2,lw=3,color=\"black\")\n",
    "plt.scatter(X_test[\"AGE\"],y_test)"
   ]
  }
 ],
 "metadata": {
  "kernelspec": {
   "display_name": "Python [default]",
   "language": "python",
   "name": "python3"
  },
  "language_info": {
   "codemirror_mode": {
    "name": "ipython",
    "version": 3
   },
   "file_extension": ".py",
   "mimetype": "text/x-python",
   "name": "python",
   "nbconvert_exporter": "python",
   "pygments_lexer": "ipython3",
   "version": "3.6.2"
  }
 },
 "nbformat": 4,
 "nbformat_minor": 2
}
